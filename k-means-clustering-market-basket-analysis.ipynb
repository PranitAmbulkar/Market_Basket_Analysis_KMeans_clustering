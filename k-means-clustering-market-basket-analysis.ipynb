{
 "cells": [
  {
   "cell_type": "code",
   "execution_count": 1,
   "id": "d40f7408",
   "metadata": {
    "_cell_guid": "b1076dfc-b9ad-4769-8c92-a6c4dae69d19",
    "_uuid": "8f2839f25d086af736a60e9eeb907d3b93b6e0e5",
    "execution": {
     "iopub.execute_input": "2024-02-07T12:10:25.718305Z",
     "iopub.status.busy": "2024-02-07T12:10:25.717897Z",
     "iopub.status.idle": "2024-02-07T12:10:26.844811Z",
     "shell.execute_reply": "2024-02-07T12:10:26.843286Z"
    },
    "papermill": {
     "duration": 1.144053,
     "end_time": "2024-02-07T12:10:26.848144",
     "exception": false,
     "start_time": "2024-02-07T12:10:25.704091",
     "status": "completed"
    },
    "tags": []
   },
   "outputs": [
    {
     "name": "stdout",
     "output_type": "stream",
     "text": [
      "/kaggle/input/customer-segmentation-tutorial-in-python/Mall_Customers.csv\n"
     ]
    }
   ],
   "source": [
    "# This Python 3 environment comes with many helpful analytics libraries installed\n",
    "# It is defined by the kaggle/python Docker image: https://github.com/kaggle/docker-python\n",
    "# For example, here's several helpful packages to load\n",
    "\n",
    "import numpy as np # linear algebra\n",
    "import pandas as pd # data processing, CSV file I/O (e.g. pd.read_csv)\n",
    "\n",
    "# Input data files are available in the read-only \"../input/\" directory\n",
    "# For example, running this (by clicking run or pressing Shift+Enter) will list all files under the input directory\n",
    "\n",
    "import os\n",
    "for dirname, _, filenames in os.walk('/kaggle/input'):\n",
    "    for filename in filenames:\n",
    "        print(os.path.join(dirname, filename))\n",
    "\n",
    "# You can write up to 20GB to the current directory (/kaggle/working/) that gets preserved as output when you create a version using \"Save & Run All\" \n",
    "# You can also write temporary files to /kaggle/temp/, but they won't be saved outside of the current session"
   ]
  },
  {
   "cell_type": "markdown",
   "id": "138cac23",
   "metadata": {
    "papermill": {
     "duration": 0.011868,
     "end_time": "2024-02-07T12:10:26.870856",
     "exception": false,
     "start_time": "2024-02-07T12:10:26.858988",
     "status": "completed"
    },
    "tags": []
   },
   "source": [
    "Unlike in the classification and regression in the unsupervised learning we just have the data not like input data and the output data things.\n",
    " \n",
    "- Values which are grouped together called as cluster.\n",
    "- K-means cluster.\n",
    "- According to the feature similarities the cluster would have been decided and grouped together (certain amount of the data based on the similarity of the features)."
   ]
  },
  {
   "cell_type": "markdown",
   "id": "a41c1068",
   "metadata": {
    "papermill": {
     "duration": 0.010185,
     "end_time": "2024-02-07T12:10:26.891208",
     "exception": false,
     "start_time": "2024-02-07T12:10:26.881023",
     "status": "completed"
    },
    "tags": []
   },
   "source": [
    "- K is the number of clusters.\n",
    "- based on the node position. The distane from the cluster mean it should be minimum.(Mean from the centre is minimized).\n",
    "- The centroid of the particular cluster is the cordinate of the points.\n",
    "\n",
    "STEPS\n",
    "1. Take any two points in the random clusters we taken.\n",
    "2. We will check the points where they resides in cluster 1 or cluster 2 by using the distance formula.\n",
    "3. We will use the distance formula for the each of the datapoints and then decide where the point is residing where the distance is less towards the centroid of the cluster.\n",
    "4. Where points have added in the cluster. Then also the centroid will also chnange becasue the area has been extended. We need to shift the centroid, by taking the average of the points."
   ]
  },
  {
   "cell_type": "code",
   "execution_count": 2,
   "id": "3faba207",
   "metadata": {
    "execution": {
     "iopub.execute_input": "2024-02-07T12:10:26.917120Z",
     "iopub.status.busy": "2024-02-07T12:10:26.916059Z",
     "iopub.status.idle": "2024-02-07T12:10:28.769343Z",
     "shell.execute_reply": "2024-02-07T12:10:28.768457Z"
    },
    "papermill": {
     "duration": 1.869827,
     "end_time": "2024-02-07T12:10:28.773218",
     "exception": false,
     "start_time": "2024-02-07T12:10:26.903391",
     "status": "completed"
    },
    "tags": []
   },
   "outputs": [],
   "source": [
    "### Lets import the required libraries \n",
    "\n",
    "import pandas as pd \n",
    "import numpy as np \n",
    "import matplotlib.pyplot as plt \n",
    "import seaborn as sns "
   ]
  },
  {
   "cell_type": "markdown",
   "id": "65a2afc3",
   "metadata": {
    "papermill": {
     "duration": 0.009999,
     "end_time": "2024-02-07T12:10:28.793235",
     "exception": false,
     "start_time": "2024-02-07T12:10:28.783236",
     "status": "completed"
    },
    "tags": []
   },
   "source": []
  },
  {
   "cell_type": "code",
   "execution_count": 3,
   "id": "c7df8764",
   "metadata": {
    "execution": {
     "iopub.execute_input": "2024-02-07T12:10:28.816997Z",
     "iopub.status.busy": "2024-02-07T12:10:28.816459Z",
     "iopub.status.idle": "2024-02-07T12:10:28.861814Z",
     "shell.execute_reply": "2024-02-07T12:10:28.860897Z"
    },
    "papermill": {
     "duration": 0.060085,
     "end_time": "2024-02-07T12:10:28.864211",
     "exception": false,
     "start_time": "2024-02-07T12:10:28.804126",
     "status": "completed"
    },
    "tags": []
   },
   "outputs": [
    {
     "data": {
      "text/html": [
       "<div>\n",
       "<style scoped>\n",
       "    .dataframe tbody tr th:only-of-type {\n",
       "        vertical-align: middle;\n",
       "    }\n",
       "\n",
       "    .dataframe tbody tr th {\n",
       "        vertical-align: top;\n",
       "    }\n",
       "\n",
       "    .dataframe thead th {\n",
       "        text-align: right;\n",
       "    }\n",
       "</style>\n",
       "<table border=\"1\" class=\"dataframe\">\n",
       "  <thead>\n",
       "    <tr style=\"text-align: right;\">\n",
       "      <th></th>\n",
       "      <th>CustomerID</th>\n",
       "      <th>Gender</th>\n",
       "      <th>Age</th>\n",
       "      <th>Annual Income (k$)</th>\n",
       "      <th>Spending Score (1-100)</th>\n",
       "    </tr>\n",
       "  </thead>\n",
       "  <tbody>\n",
       "    <tr>\n",
       "      <th>0</th>\n",
       "      <td>1</td>\n",
       "      <td>Male</td>\n",
       "      <td>19</td>\n",
       "      <td>15</td>\n",
       "      <td>39</td>\n",
       "    </tr>\n",
       "    <tr>\n",
       "      <th>1</th>\n",
       "      <td>2</td>\n",
       "      <td>Male</td>\n",
       "      <td>21</td>\n",
       "      <td>15</td>\n",
       "      <td>81</td>\n",
       "    </tr>\n",
       "    <tr>\n",
       "      <th>2</th>\n",
       "      <td>3</td>\n",
       "      <td>Female</td>\n",
       "      <td>20</td>\n",
       "      <td>16</td>\n",
       "      <td>6</td>\n",
       "    </tr>\n",
       "    <tr>\n",
       "      <th>3</th>\n",
       "      <td>4</td>\n",
       "      <td>Female</td>\n",
       "      <td>23</td>\n",
       "      <td>16</td>\n",
       "      <td>77</td>\n",
       "    </tr>\n",
       "    <tr>\n",
       "      <th>4</th>\n",
       "      <td>5</td>\n",
       "      <td>Female</td>\n",
       "      <td>31</td>\n",
       "      <td>17</td>\n",
       "      <td>40</td>\n",
       "    </tr>\n",
       "    <tr>\n",
       "      <th>...</th>\n",
       "      <td>...</td>\n",
       "      <td>...</td>\n",
       "      <td>...</td>\n",
       "      <td>...</td>\n",
       "      <td>...</td>\n",
       "    </tr>\n",
       "    <tr>\n",
       "      <th>195</th>\n",
       "      <td>196</td>\n",
       "      <td>Female</td>\n",
       "      <td>35</td>\n",
       "      <td>120</td>\n",
       "      <td>79</td>\n",
       "    </tr>\n",
       "    <tr>\n",
       "      <th>196</th>\n",
       "      <td>197</td>\n",
       "      <td>Female</td>\n",
       "      <td>45</td>\n",
       "      <td>126</td>\n",
       "      <td>28</td>\n",
       "    </tr>\n",
       "    <tr>\n",
       "      <th>197</th>\n",
       "      <td>198</td>\n",
       "      <td>Male</td>\n",
       "      <td>32</td>\n",
       "      <td>126</td>\n",
       "      <td>74</td>\n",
       "    </tr>\n",
       "    <tr>\n",
       "      <th>198</th>\n",
       "      <td>199</td>\n",
       "      <td>Male</td>\n",
       "      <td>32</td>\n",
       "      <td>137</td>\n",
       "      <td>18</td>\n",
       "    </tr>\n",
       "    <tr>\n",
       "      <th>199</th>\n",
       "      <td>200</td>\n",
       "      <td>Male</td>\n",
       "      <td>30</td>\n",
       "      <td>137</td>\n",
       "      <td>83</td>\n",
       "    </tr>\n",
       "  </tbody>\n",
       "</table>\n",
       "<p>200 rows × 5 columns</p>\n",
       "</div>"
      ],
      "text/plain": [
       "     CustomerID  Gender  Age  Annual Income (k$)  Spending Score (1-100)\n",
       "0             1    Male   19                  15                      39\n",
       "1             2    Male   21                  15                      81\n",
       "2             3  Female   20                  16                       6\n",
       "3             4  Female   23                  16                      77\n",
       "4             5  Female   31                  17                      40\n",
       "..          ...     ...  ...                 ...                     ...\n",
       "195         196  Female   35                 120                      79\n",
       "196         197  Female   45                 126                      28\n",
       "197         198    Male   32                 126                      74\n",
       "198         199    Male   32                 137                      18\n",
       "199         200    Male   30                 137                      83\n",
       "\n",
       "[200 rows x 5 columns]"
      ]
     },
     "execution_count": 3,
     "metadata": {},
     "output_type": "execute_result"
    }
   ],
   "source": [
    "df = pd.read_csv(\"/kaggle/input/customer-segmentation-tutorial-in-python/Mall_Customers.csv\")\n",
    "df"
   ]
  },
  {
   "cell_type": "code",
   "execution_count": 4,
   "id": "960eda8c",
   "metadata": {
    "execution": {
     "iopub.execute_input": "2024-02-07T12:10:28.887286Z",
     "iopub.status.busy": "2024-02-07T12:10:28.886644Z",
     "iopub.status.idle": "2024-02-07T12:10:28.902891Z",
     "shell.execute_reply": "2024-02-07T12:10:28.901015Z"
    },
    "papermill": {
     "duration": 0.030814,
     "end_time": "2024-02-07T12:10:28.905554",
     "exception": false,
     "start_time": "2024-02-07T12:10:28.874740",
     "status": "completed"
    },
    "tags": []
   },
   "outputs": [
    {
     "data": {
      "text/html": [
       "<div>\n",
       "<style scoped>\n",
       "    .dataframe tbody tr th:only-of-type {\n",
       "        vertical-align: middle;\n",
       "    }\n",
       "\n",
       "    .dataframe tbody tr th {\n",
       "        vertical-align: top;\n",
       "    }\n",
       "\n",
       "    .dataframe thead th {\n",
       "        text-align: right;\n",
       "    }\n",
       "</style>\n",
       "<table border=\"1\" class=\"dataframe\">\n",
       "  <thead>\n",
       "    <tr style=\"text-align: right;\">\n",
       "      <th></th>\n",
       "      <th>Annual Income (k$)</th>\n",
       "      <th>Spending Score (1-100)</th>\n",
       "    </tr>\n",
       "  </thead>\n",
       "  <tbody>\n",
       "    <tr>\n",
       "      <th>0</th>\n",
       "      <td>15</td>\n",
       "      <td>39</td>\n",
       "    </tr>\n",
       "    <tr>\n",
       "      <th>1</th>\n",
       "      <td>15</td>\n",
       "      <td>81</td>\n",
       "    </tr>\n",
       "    <tr>\n",
       "      <th>2</th>\n",
       "      <td>16</td>\n",
       "      <td>6</td>\n",
       "    </tr>\n",
       "    <tr>\n",
       "      <th>3</th>\n",
       "      <td>16</td>\n",
       "      <td>77</td>\n",
       "    </tr>\n",
       "    <tr>\n",
       "      <th>4</th>\n",
       "      <td>17</td>\n",
       "      <td>40</td>\n",
       "    </tr>\n",
       "    <tr>\n",
       "      <th>...</th>\n",
       "      <td>...</td>\n",
       "      <td>...</td>\n",
       "    </tr>\n",
       "    <tr>\n",
       "      <th>195</th>\n",
       "      <td>120</td>\n",
       "      <td>79</td>\n",
       "    </tr>\n",
       "    <tr>\n",
       "      <th>196</th>\n",
       "      <td>126</td>\n",
       "      <td>28</td>\n",
       "    </tr>\n",
       "    <tr>\n",
       "      <th>197</th>\n",
       "      <td>126</td>\n",
       "      <td>74</td>\n",
       "    </tr>\n",
       "    <tr>\n",
       "      <th>198</th>\n",
       "      <td>137</td>\n",
       "      <td>18</td>\n",
       "    </tr>\n",
       "    <tr>\n",
       "      <th>199</th>\n",
       "      <td>137</td>\n",
       "      <td>83</td>\n",
       "    </tr>\n",
       "  </tbody>\n",
       "</table>\n",
       "<p>200 rows × 2 columns</p>\n",
       "</div>"
      ],
      "text/plain": [
       "     Annual Income (k$)  Spending Score (1-100)\n",
       "0                    15                      39\n",
       "1                    15                      81\n",
       "2                    16                       6\n",
       "3                    16                      77\n",
       "4                    17                      40\n",
       "..                  ...                     ...\n",
       "195                 120                      79\n",
       "196                 126                      28\n",
       "197                 126                      74\n",
       "198                 137                      18\n",
       "199                 137                      83\n",
       "\n",
       "[200 rows x 2 columns]"
      ]
     },
     "execution_count": 4,
     "metadata": {},
     "output_type": "execute_result"
    }
   ],
   "source": [
    "# we will remove the customer ID hence we have the index as well \n",
    "# we are not using the algorithm as we are not using the customer id or some sort of ID's or some sort of names\n",
    "# We will also ignore the gender and age for the simplicity purpose \n",
    "\n",
    "# this will be our input \n",
    "X = df.iloc[:,[3,4]]\n",
    "X"
   ]
  },
  {
   "cell_type": "markdown",
   "id": "d4a7211d",
   "metadata": {
    "papermill": {
     "duration": 0.011495,
     "end_time": "2024-02-07T12:10:28.928391",
     "exception": false,
     "start_time": "2024-02-07T12:10:28.916896",
     "status": "completed"
    },
    "tags": []
   },
   "source": [
    "We will use the Elbow methos for deciding the number of clusters \n",
    "- The maximum number of possible clusters taken as square root of total number of datapoints.\n",
    "- For example we have the 200 datapoints and we have the square root as 14 hence we can take the n_clusters between the 1-14.\n"
   ]
  },
  {
   "cell_type": "code",
   "execution_count": 5,
   "id": "9f40eaff",
   "metadata": {
    "execution": {
     "iopub.execute_input": "2024-02-07T12:10:28.951688Z",
     "iopub.status.busy": "2024-02-07T12:10:28.951311Z",
     "iopub.status.idle": "2024-02-07T12:10:28.959163Z",
     "shell.execute_reply": "2024-02-07T12:10:28.957865Z"
    },
    "papermill": {
     "duration": 0.022542,
     "end_time": "2024-02-07T12:10:28.962128",
     "exception": false,
     "start_time": "2024-02-07T12:10:28.939586",
     "status": "completed"
    },
    "tags": []
   },
   "outputs": [
    {
     "data": {
      "text/plain": [
       "14.142135623730951"
      ]
     },
     "execution_count": 5,
     "metadata": {},
     "output_type": "execute_result"
    }
   ],
   "source": [
    "np.sqrt(200)"
   ]
  },
  {
   "cell_type": "code",
   "execution_count": 6,
   "id": "93c008d7",
   "metadata": {
    "execution": {
     "iopub.execute_input": "2024-02-07T12:10:28.985376Z",
     "iopub.status.busy": "2024-02-07T12:10:28.984736Z",
     "iopub.status.idle": "2024-02-07T12:10:28.988941Z",
     "shell.execute_reply": "2024-02-07T12:10:28.988104Z"
    },
    "papermill": {
     "duration": 0.018755,
     "end_time": "2024-02-07T12:10:28.991475",
     "exception": false,
     "start_time": "2024-02-07T12:10:28.972720",
     "status": "completed"
    },
    "tags": []
   },
   "outputs": [],
   "source": [
    "K=range(0,14)"
   ]
  },
  {
   "cell_type": "code",
   "execution_count": 7,
   "id": "d8b27922",
   "metadata": {
    "execution": {
     "iopub.execute_input": "2024-02-07T12:10:29.017755Z",
     "iopub.status.busy": "2024-02-07T12:10:29.017370Z",
     "iopub.status.idle": "2024-02-07T12:10:29.805926Z",
     "shell.execute_reply": "2024-02-07T12:10:29.803906Z"
    },
    "papermill": {
     "duration": 0.805577,
     "end_time": "2024-02-07T12:10:29.808728",
     "exception": false,
     "start_time": "2024-02-07T12:10:29.003151",
     "status": "completed"
    },
    "tags": []
   },
   "outputs": [],
   "source": [
    "from sklearn.cluster import KMeans"
   ]
  },
  {
   "cell_type": "code",
   "execution_count": 8,
   "id": "d890791f",
   "metadata": {
    "execution": {
     "iopub.execute_input": "2024-02-07T12:10:29.835657Z",
     "iopub.status.busy": "2024-02-07T12:10:29.835015Z",
     "iopub.status.idle": "2024-02-07T12:10:30.230811Z",
     "shell.execute_reply": "2024-02-07T12:10:30.229568Z"
    },
    "papermill": {
     "duration": 0.41373,
     "end_time": "2024-02-07T12:10:30.233635",
     "exception": false,
     "start_time": "2024-02-07T12:10:29.819905",
     "status": "completed"
    },
    "tags": []
   },
   "outputs": [
    {
     "data": {
      "image/png": "[encoded data removed]",
      "text/plain": [
       "<Figure size 640x480 with 1 Axes>"
      ]
     },
     "metadata": {},
     "output_type": "display_data"
    }
   ],
   "source": [
    "k=range(1,15)\n",
    "\n",
    "SSE = []\n",
    "for i in k:\n",
    "    model_clusters=KMeans(n_clusters=i,random_state=14,n_init='auto')\n",
    "    model_clusters.fit(X)\n",
    "    SSE.append(model_clusters.inertia_)# sum of squared errors \n",
    "\n",
    "plt.plot(K,SSE)\n",
    "plt.show()\n",
    "# here the code will run untill the value reaches 14.\n",
    "# inertia gives the sum of squared distance of samples to their closest cluster center,\n",
    "# weighted by the sample weights if provided."
   ]
  },
  {
   "cell_type": "markdown",
   "id": "4ff06c5a",
   "metadata": {
    "papermill": {
     "duration": 0.011534,
     "end_time": "2024-02-07T12:10:30.256839",
     "exception": false,
     "start_time": "2024-02-07T12:10:30.245305",
     "status": "completed"
    },
    "tags": []
   },
   "source": [
    "There are two points where we can see that the elbow is very prominent where the k value is equal to 5.\n",
    "- The number of clusters is being 5 the value is very predominant and K=5clsuters\n",
    "- Hence we will decide 5 to be the most appropriate number of clusters.\n",
    "- ideally the graph should be decreasing downwards and we will get the sharp elbow."
   ]
  },
  {
   "cell_type": "code",
   "execution_count": 9,
   "id": "9b7e9987",
   "metadata": {
    "execution": {
     "iopub.execute_input": "2024-02-07T12:10:30.282069Z",
     "iopub.status.busy": "2024-02-07T12:10:30.281423Z",
     "iopub.status.idle": "2024-02-07T12:10:30.286421Z",
     "shell.execute_reply": "2024-02-07T12:10:30.285366Z"
    },
    "papermill": {
     "duration": 0.020298,
     "end_time": "2024-02-07T12:10:30.288886",
     "exception": false,
     "start_time": "2024-02-07T12:10:30.268588",
     "status": "completed"
    },
    "tags": []
   },
   "outputs": [],
   "source": [
    "# we can also decide the random number between 1-14 for the value of clusters.\n",
    "# but the elbow method is preferrable way to decide the number of clusters."
   ]
  },
  {
   "cell_type": "code",
   "execution_count": 10,
   "id": "ba01dc22",
   "metadata": {
    "execution": {
     "iopub.execute_input": "2024-02-07T12:10:30.315814Z",
     "iopub.status.busy": "2024-02-07T12:10:30.315171Z",
     "iopub.status.idle": "2024-02-07T12:10:30.319522Z",
     "shell.execute_reply": "2024-02-07T12:10:30.318736Z"
    },
    "papermill": {
     "duration": 0.021355,
     "end_time": "2024-02-07T12:10:30.322749",
     "exception": false,
     "start_time": "2024-02-07T12:10:30.301394",
     "status": "completed"
    },
    "tags": []
   },
   "outputs": [],
   "source": [
    "# now we will fit the model\n",
    "model = KMeans(n_clusters=5, random_state=14, n_init='auto')\n",
    "# random state is like the random seed in numpy "
   ]
  },
  {
   "cell_type": "code",
   "execution_count": 11,
   "id": "8628a70c",
   "metadata": {
    "execution": {
     "iopub.execute_input": "2024-02-07T12:10:30.349823Z",
     "iopub.status.busy": "2024-02-07T12:10:30.349110Z",
     "iopub.status.idle": "2024-02-07T12:10:30.367643Z",
     "shell.execute_reply": "2024-02-07T12:10:30.366645Z"
    },
    "papermill": {
     "duration": 0.035345,
     "end_time": "2024-02-07T12:10:30.370106",
     "exception": false,
     "start_time": "2024-02-07T12:10:30.334761",
     "status": "completed"
    },
    "tags": []
   },
   "outputs": [
    {
     "data": {
      "text/html": [
       "<style>#sk-container-id-1 {color: black;background-color: white;}#sk-container-id-1 pre{padding: 0;}#sk-container-id-1 div.sk-toggleable {background-color: white;}#sk-container-id-1 label.sk-toggleable__label {cursor: pointer;display: block;width: 100%;margin-bottom: 0;padding: 0.3em;box-sizing: border-box;text-align: center;}#sk-container-id-1 label.sk-toggleable__label-arrow:before {content: \"▸\";float: left;margin-right: 0.25em;color: #696969;}#sk-container-id-1 label.sk-toggleable__label-arrow:hover:before {color: black;}#sk-container-id-1 div.sk-estimator:hover label.sk-toggleable__label-arrow:before {color: black;}#sk-container-id-1 div.sk-toggleable__content {max-height: 0;max-width: 0;overflow: hidden;text-align: left;background-color: #f0f8ff;}#sk-container-id-1 div.sk-toggleable__content pre {margin: 0.2em;color: black;border-radius: 0.25em;background-color: #f0f8ff;}#sk-container-id-1 input.sk-toggleable__control:checked~div.sk-toggleable__content {max-height: 200px;max-width: 100%;overflow: auto;}#sk-container-id-1 input.sk-toggleable__control:checked~label.sk-toggleable__label-arrow:before {content: \"▾\";}#sk-container-id-1 div.sk-estimator input.sk-toggleable__control:checked~label.sk-toggleable__label {background-color: #d4ebff;}#sk-container-id-1 div.sk-label input.sk-toggleable__control:checked~label.sk-toggleable__label {background-color: #d4ebff;}#sk-container-id-1 input.sk-hidden--visually {border: 0;clip: rect(1px 1px 1px 1px);clip: rect(1px, 1px, 1px, 1px);height: 1px;margin: -1px;overflow: hidden;padding: 0;position: absolute;width: 1px;}#sk-container-id-1 div.sk-estimator {font-family: monospace;background-color: #f0f8ff;border: 1px dotted black;border-radius: 0.25em;box-sizing: border-box;margin-bottom: 0.5em;}#sk-container-id-1 div.sk-estimator:hover {background-color: #d4ebff;}#sk-container-id-1 div.sk-parallel-item::after {content: \"\";width: 100%;border-bottom: 1px solid gray;flex-grow: 1;}#sk-container-id-1 div.sk-label:hover label.sk-toggleable__label {background-color: #d4ebff;}#sk-container-id-1 div.sk-serial::before {content: \"\";position: absolute;border-left: 1px solid gray;box-sizing: border-box;top: 0;bottom: 0;left: 50%;z-index: 0;}#sk-container-id-1 div.sk-serial {display: flex;flex-direction: column;align-items: center;background-color: white;padding-right: 0.2em;padding-left: 0.2em;position: relative;}#sk-container-id-1 div.sk-item {position: relative;z-index: 1;}#sk-container-id-1 div.sk-parallel {display: flex;align-items: stretch;justify-content: center;background-color: white;position: relative;}#sk-container-id-1 div.sk-item::before, #sk-container-id-1 div.sk-parallel-item::before {content: \"\";position: absolute;border-left: 1px solid gray;box-sizing: border-box;top: 0;bottom: 0;left: 50%;z-index: -1;}#sk-container-id-1 div.sk-parallel-item {display: flex;flex-direction: column;z-index: 1;position: relative;background-color: white;}#sk-container-id-1 div.sk-parallel-item:first-child::after {align-self: flex-end;width: 50%;}#sk-container-id-1 div.sk-parallel-item:last-child::after {align-self: flex-start;width: 50%;}#sk-container-id-1 div.sk-parallel-item:only-child::after {width: 0;}#sk-container-id-1 div.sk-dashed-wrapped {border: 1px dashed gray;margin: 0 0.4em 0.5em 0.4em;box-sizing: border-box;padding-bottom: 0.4em;background-color: white;}#sk-container-id-1 div.sk-label label {font-family: monospace;font-weight: bold;display: inline-block;line-height: 1.2em;}#sk-container-id-1 div.sk-label-container {text-align: center;}#sk-container-id-1 div.sk-container {/* jupyter's `normalize.less` sets `[hidden] { display: none; }` but bootstrap.min.css set `[hidden] { display: none !important; }` so we also need the `!important` here to be able to override the default hidden behavior on the sphinx rendered scikit-learn.org. See: https://github.com/scikit-learn/scikit-learn/issues/21755 */display: inline-block !important;position: relative;}#sk-container-id-1 div.sk-text-repr-fallback {display: none;}</style><div id=\"sk-container-id-1\" class=\"sk-top-container\"><div class=\"sk-text-repr-fallback\"><pre>KMeans(n_clusters=5, n_init=&#x27;auto&#x27;, random_state=14)</pre><b>In a Jupyter environment, please rerun this cell to show the HTML representation or trust the notebook. <br />On GitHub, the HTML representation is unable to render, please try loading this page with nbviewer.org.</b></div><div class=\"sk-container\" hidden><div class=\"sk-item\"><div class=\"sk-estimator sk-toggleable\"><input class=\"sk-toggleable__control sk-hidden--visually\" id=\"sk-estimator-id-1\" type=\"checkbox\" checked><label for=\"sk-estimator-id-1\" class=\"sk-toggleable__label sk-toggleable__label-arrow\">KMeans</label><div class=\"sk-toggleable__content\"><pre>KMeans(n_clusters=5, n_init=&#x27;auto&#x27;, random_state=14)</pre></div></div></div></div></div>"
      ],
      "text/plain": [
       "KMeans(n_clusters=5, n_init='auto', random_state=14)"
      ]
     },
     "execution_count": 11,
     "metadata": {},
     "output_type": "execute_result"
    }
   ],
   "source": [
    "model.fit(X)"
   ]
  },
  {
   "cell_type": "code",
   "execution_count": 12,
   "id": "61a95033",
   "metadata": {
    "execution": {
     "iopub.execute_input": "2024-02-07T12:10:30.394973Z",
     "iopub.status.busy": "2024-02-07T12:10:30.394568Z",
     "iopub.status.idle": "2024-02-07T12:10:30.406232Z",
     "shell.execute_reply": "2024-02-07T12:10:30.404736Z"
    },
    "papermill": {
     "duration": 0.026801,
     "end_time": "2024-02-07T12:10:30.408809",
     "exception": false,
     "start_time": "2024-02-07T12:10:30.382008",
     "status": "completed"
    },
    "tags": []
   },
   "outputs": [
    {
     "data": {
      "text/plain": [
       "array([4, 2, 4, 2, 4, 2, 4, 2, 4, 2, 4, 2, 4, 2, 4, 2, 4, 2, 4, 2, 4, 2,\n",
       "       4, 2, 4, 2, 4, 2, 4, 2, 4, 2, 4, 2, 4, 2, 4, 2, 4, 2, 4, 2, 4, 0,\n",
       "       4, 2, 0, 0, 0, 0, 0, 0, 0, 0, 0, 0, 0, 0, 0, 0, 0, 0, 0, 0, 0, 0,\n",
       "       0, 0, 0, 0, 0, 0, 0, 0, 0, 0, 0, 0, 0, 0, 0, 0, 0, 0, 0, 0, 0, 0,\n",
       "       0, 0, 0, 0, 0, 0, 0, 0, 0, 0, 0, 0, 0, 0, 0, 0, 0, 0, 0, 0, 0, 0,\n",
       "       0, 0, 0, 0, 0, 0, 0, 0, 0, 0, 0, 0, 0, 1, 3, 1, 0, 1, 3, 1, 3, 1,\n",
       "       0, 1, 3, 1, 3, 1, 3, 1, 3, 1, 0, 1, 3, 1, 3, 1, 3, 1, 3, 1, 3, 1,\n",
       "       3, 1, 3, 1, 3, 1, 3, 1, 3, 1, 3, 1, 3, 1, 3, 1, 3, 1, 3, 1, 3, 1,\n",
       "       3, 1, 3, 1, 3, 1, 3, 1, 3, 1, 3, 1, 3, 1, 3, 1, 3, 1, 3, 1, 3, 1,\n",
       "       3, 1], dtype=int32)"
      ]
     },
     "execution_count": 12,
     "metadata": {},
     "output_type": "execute_result"
    }
   ],
   "source": [
    "model.predict(X)"
   ]
  },
  {
   "cell_type": "markdown",
   "id": "72d1a1bf",
   "metadata": {
    "papermill": {
     "duration": 0.011932,
     "end_time": "2024-02-07T12:10:30.433515",
     "exception": false,
     "start_time": "2024-02-07T12:10:30.421583",
     "status": "completed"
    },
    "tags": []
   },
   "source": [
    "- here are the random bunch of values \n",
    "- We will get the 200 values which are listed. These values are the cluster numbers. from 0 to 4.\n",
    "- Becasue there are 5 clusters.\n"
   ]
  },
  {
   "cell_type": "code",
   "execution_count": 13,
   "id": "60b3664f",
   "metadata": {
    "execution": {
     "iopub.execute_input": "2024-02-07T12:10:30.460404Z",
     "iopub.status.busy": "2024-02-07T12:10:30.460023Z",
     "iopub.status.idle": "2024-02-07T12:10:30.470132Z",
     "shell.execute_reply": "2024-02-07T12:10:30.468826Z"
    },
    "papermill": {
     "duration": 0.026061,
     "end_time": "2024-02-07T12:10:30.472606",
     "exception": false,
     "start_time": "2024-02-07T12:10:30.446545",
     "status": "completed"
    },
    "tags": []
   },
   "outputs": [],
   "source": [
    "# we will add the new column to the dataframe.\n",
    "df['Cluster_no']=model.predict(X)"
   ]
  },
  {
   "cell_type": "code",
   "execution_count": 14,
   "id": "e1fa6240",
   "metadata": {
    "execution": {
     "iopub.execute_input": "2024-02-07T12:10:30.499564Z",
     "iopub.status.busy": "2024-02-07T12:10:30.499194Z",
     "iopub.status.idle": "2024-02-07T12:10:30.513666Z",
     "shell.execute_reply": "2024-02-07T12:10:30.512811Z"
    },
    "papermill": {
     "duration": 0.031131,
     "end_time": "2024-02-07T12:10:30.516765",
     "exception": false,
     "start_time": "2024-02-07T12:10:30.485634",
     "status": "completed"
    },
    "tags": []
   },
   "outputs": [
    {
     "data": {
      "text/html": [
       "<div>\n",
       "<style scoped>\n",
       "    .dataframe tbody tr th:only-of-type {\n",
       "        vertical-align: middle;\n",
       "    }\n",
       "\n",
       "    .dataframe tbody tr th {\n",
       "        vertical-align: top;\n",
       "    }\n",
       "\n",
       "    .dataframe thead th {\n",
       "        text-align: right;\n",
       "    }\n",
       "</style>\n",
       "<table border=\"1\" class=\"dataframe\">\n",
       "  <thead>\n",
       "    <tr style=\"text-align: right;\">\n",
       "      <th></th>\n",
       "      <th>CustomerID</th>\n",
       "      <th>Gender</th>\n",
       "      <th>Age</th>\n",
       "      <th>Annual Income (k$)</th>\n",
       "      <th>Spending Score (1-100)</th>\n",
       "      <th>Cluster_no</th>\n",
       "    </tr>\n",
       "  </thead>\n",
       "  <tbody>\n",
       "    <tr>\n",
       "      <th>0</th>\n",
       "      <td>1</td>\n",
       "      <td>Male</td>\n",
       "      <td>19</td>\n",
       "      <td>15</td>\n",
       "      <td>39</td>\n",
       "      <td>4</td>\n",
       "    </tr>\n",
       "    <tr>\n",
       "      <th>1</th>\n",
       "      <td>2</td>\n",
       "      <td>Male</td>\n",
       "      <td>21</td>\n",
       "      <td>15</td>\n",
       "      <td>81</td>\n",
       "      <td>2</td>\n",
       "    </tr>\n",
       "    <tr>\n",
       "      <th>2</th>\n",
       "      <td>3</td>\n",
       "      <td>Female</td>\n",
       "      <td>20</td>\n",
       "      <td>16</td>\n",
       "      <td>6</td>\n",
       "      <td>4</td>\n",
       "    </tr>\n",
       "    <tr>\n",
       "      <th>3</th>\n",
       "      <td>4</td>\n",
       "      <td>Female</td>\n",
       "      <td>23</td>\n",
       "      <td>16</td>\n",
       "      <td>77</td>\n",
       "      <td>2</td>\n",
       "    </tr>\n",
       "    <tr>\n",
       "      <th>4</th>\n",
       "      <td>5</td>\n",
       "      <td>Female</td>\n",
       "      <td>31</td>\n",
       "      <td>17</td>\n",
       "      <td>40</td>\n",
       "      <td>4</td>\n",
       "    </tr>\n",
       "    <tr>\n",
       "      <th>...</th>\n",
       "      <td>...</td>\n",
       "      <td>...</td>\n",
       "      <td>...</td>\n",
       "      <td>...</td>\n",
       "      <td>...</td>\n",
       "      <td>...</td>\n",
       "    </tr>\n",
       "    <tr>\n",
       "      <th>195</th>\n",
       "      <td>196</td>\n",
       "      <td>Female</td>\n",
       "      <td>35</td>\n",
       "      <td>120</td>\n",
       "      <td>79</td>\n",
       "      <td>1</td>\n",
       "    </tr>\n",
       "    <tr>\n",
       "      <th>196</th>\n",
       "      <td>197</td>\n",
       "      <td>Female</td>\n",
       "      <td>45</td>\n",
       "      <td>126</td>\n",
       "      <td>28</td>\n",
       "      <td>3</td>\n",
       "    </tr>\n",
       "    <tr>\n",
       "      <th>197</th>\n",
       "      <td>198</td>\n",
       "      <td>Male</td>\n",
       "      <td>32</td>\n",
       "      <td>126</td>\n",
       "      <td>74</td>\n",
       "      <td>1</td>\n",
       "    </tr>\n",
       "    <tr>\n",
       "      <th>198</th>\n",
       "      <td>199</td>\n",
       "      <td>Male</td>\n",
       "      <td>32</td>\n",
       "      <td>137</td>\n",
       "      <td>18</td>\n",
       "      <td>3</td>\n",
       "    </tr>\n",
       "    <tr>\n",
       "      <th>199</th>\n",
       "      <td>200</td>\n",
       "      <td>Male</td>\n",
       "      <td>30</td>\n",
       "      <td>137</td>\n",
       "      <td>83</td>\n",
       "      <td>1</td>\n",
       "    </tr>\n",
       "  </tbody>\n",
       "</table>\n",
       "<p>200 rows × 6 columns</p>\n",
       "</div>"
      ],
      "text/plain": [
       "     CustomerID  Gender  Age  Annual Income (k$)  Spending Score (1-100)  \\\n",
       "0             1    Male   19                  15                      39   \n",
       "1             2    Male   21                  15                      81   \n",
       "2             3  Female   20                  16                       6   \n",
       "3             4  Female   23                  16                      77   \n",
       "4             5  Female   31                  17                      40   \n",
       "..          ...     ...  ...                 ...                     ...   \n",
       "195         196  Female   35                 120                      79   \n",
       "196         197  Female   45                 126                      28   \n",
       "197         198    Male   32                 126                      74   \n",
       "198         199    Male   32                 137                      18   \n",
       "199         200    Male   30                 137                      83   \n",
       "\n",
       "     Cluster_no  \n",
       "0             4  \n",
       "1             2  \n",
       "2             4  \n",
       "3             2  \n",
       "4             4  \n",
       "..          ...  \n",
       "195           1  \n",
       "196           3  \n",
       "197           1  \n",
       "198           3  \n",
       "199           1  \n",
       "\n",
       "[200 rows x 6 columns]"
      ]
     },
     "execution_count": 14,
     "metadata": {},
     "output_type": "execute_result"
    }
   ],
   "source": [
    "df"
   ]
  },
  {
   "cell_type": "code",
   "execution_count": 15,
   "id": "bd83f14f",
   "metadata": {
    "execution": {
     "iopub.execute_input": "2024-02-07T12:10:30.543907Z",
     "iopub.status.busy": "2024-02-07T12:10:30.543284Z",
     "iopub.status.idle": "2024-02-07T12:10:30.549581Z",
     "shell.execute_reply": "2024-02-07T12:10:30.548297Z"
    },
    "papermill": {
     "duration": 0.022761,
     "end_time": "2024-02-07T12:10:30.552245",
     "exception": false,
     "start_time": "2024-02-07T12:10:30.529484",
     "status": "completed"
    },
    "tags": []
   },
   "outputs": [],
   "source": [
    "# visulaization plays very important role in the clustering \n",
    "\n",
    "y = model.predict(X)"
   ]
  },
  {
   "cell_type": "code",
   "execution_count": 16,
   "id": "e19eb7ad",
   "metadata": {
    "execution": {
     "iopub.execute_input": "2024-02-07T12:10:30.579695Z",
     "iopub.status.busy": "2024-02-07T12:10:30.579252Z",
     "iopub.status.idle": "2024-02-07T12:10:30.588173Z",
     "shell.execute_reply": "2024-02-07T12:10:30.586832Z"
    },
    "papermill": {
     "duration": 0.025596,
     "end_time": "2024-02-07T12:10:30.590763",
     "exception": false,
     "start_time": "2024-02-07T12:10:30.565167",
     "status": "completed"
    },
    "tags": []
   },
   "outputs": [
    {
     "data": {
      "text/plain": [
       "(array([0, 1, 2, 3, 4], dtype=int32), array([81, 39, 22, 35, 23]))"
      ]
     },
     "execution_count": 16,
     "metadata": {},
     "output_type": "execute_result"
    }
   ],
   "source": [
    "np.unique(y,return_counts=True)"
   ]
  },
  {
   "cell_type": "code",
   "execution_count": 17,
   "id": "7230b3ce",
   "metadata": {
    "execution": {
     "iopub.execute_input": "2024-02-07T12:10:30.617986Z",
     "iopub.status.busy": "2024-02-07T12:10:30.617582Z",
     "iopub.status.idle": "2024-02-07T12:10:30.622415Z",
     "shell.execute_reply": "2024-02-07T12:10:30.620820Z"
    },
    "papermill": {
     "duration": 0.021623,
     "end_time": "2024-02-07T12:10:30.624823",
     "exception": false,
     "start_time": "2024-02-07T12:10:30.603200",
     "status": "completed"
    },
    "tags": []
   },
   "outputs": [],
   "source": [
    "# (array([0, 1, 2, 3, 4], dtype=int32), array([81, 39, 22, 35, 23]))\n",
    "# There are 81 datapoints in cluster 0.\n",
    "# There are 39 datapoints in cluster 1.\n",
    "# There are 22 datapoints in cluster 2.\n",
    "# There are 35 datapoints in cluster 3.\n",
    "# There are 23 datapoints in cluster 4."
   ]
  },
  {
   "cell_type": "code",
   "execution_count": 18,
   "id": "c64b0e0f",
   "metadata": {
    "execution": {
     "iopub.execute_input": "2024-02-07T12:10:30.653879Z",
     "iopub.status.busy": "2024-02-07T12:10:30.653143Z",
     "iopub.status.idle": "2024-02-07T12:10:30.666011Z",
     "shell.execute_reply": "2024-02-07T12:10:30.664751Z"
    },
    "papermill": {
     "duration": 0.030396,
     "end_time": "2024-02-07T12:10:30.668766",
     "exception": false,
     "start_time": "2024-02-07T12:10:30.638370",
     "status": "completed"
    },
    "tags": []
   },
   "outputs": [
    {
     "data": {
      "text/html": [
       "<div>\n",
       "<style scoped>\n",
       "    .dataframe tbody tr th:only-of-type {\n",
       "        vertical-align: middle;\n",
       "    }\n",
       "\n",
       "    .dataframe tbody tr th {\n",
       "        vertical-align: top;\n",
       "    }\n",
       "\n",
       "    .dataframe thead th {\n",
       "        text-align: right;\n",
       "    }\n",
       "</style>\n",
       "<table border=\"1\" class=\"dataframe\">\n",
       "  <thead>\n",
       "    <tr style=\"text-align: right;\">\n",
       "      <th></th>\n",
       "      <th>Annual Income (k$)</th>\n",
       "      <th>Spending Score (1-100)</th>\n",
       "    </tr>\n",
       "  </thead>\n",
       "  <tbody>\n",
       "    <tr>\n",
       "      <th>1</th>\n",
       "      <td>15</td>\n",
       "      <td>81</td>\n",
       "    </tr>\n",
       "    <tr>\n",
       "      <th>3</th>\n",
       "      <td>16</td>\n",
       "      <td>77</td>\n",
       "    </tr>\n",
       "    <tr>\n",
       "      <th>5</th>\n",
       "      <td>17</td>\n",
       "      <td>76</td>\n",
       "    </tr>\n",
       "    <tr>\n",
       "      <th>7</th>\n",
       "      <td>18</td>\n",
       "      <td>94</td>\n",
       "    </tr>\n",
       "    <tr>\n",
       "      <th>9</th>\n",
       "      <td>19</td>\n",
       "      <td>72</td>\n",
       "    </tr>\n",
       "    <tr>\n",
       "      <th>11</th>\n",
       "      <td>19</td>\n",
       "      <td>99</td>\n",
       "    </tr>\n",
       "    <tr>\n",
       "      <th>13</th>\n",
       "      <td>20</td>\n",
       "      <td>77</td>\n",
       "    </tr>\n",
       "    <tr>\n",
       "      <th>15</th>\n",
       "      <td>20</td>\n",
       "      <td>79</td>\n",
       "    </tr>\n",
       "    <tr>\n",
       "      <th>17</th>\n",
       "      <td>21</td>\n",
       "      <td>66</td>\n",
       "    </tr>\n",
       "    <tr>\n",
       "      <th>19</th>\n",
       "      <td>23</td>\n",
       "      <td>98</td>\n",
       "    </tr>\n",
       "    <tr>\n",
       "      <th>21</th>\n",
       "      <td>24</td>\n",
       "      <td>73</td>\n",
       "    </tr>\n",
       "    <tr>\n",
       "      <th>23</th>\n",
       "      <td>25</td>\n",
       "      <td>73</td>\n",
       "    </tr>\n",
       "    <tr>\n",
       "      <th>25</th>\n",
       "      <td>28</td>\n",
       "      <td>82</td>\n",
       "    </tr>\n",
       "    <tr>\n",
       "      <th>27</th>\n",
       "      <td>28</td>\n",
       "      <td>61</td>\n",
       "    </tr>\n",
       "    <tr>\n",
       "      <th>29</th>\n",
       "      <td>29</td>\n",
       "      <td>87</td>\n",
       "    </tr>\n",
       "    <tr>\n",
       "      <th>31</th>\n",
       "      <td>30</td>\n",
       "      <td>73</td>\n",
       "    </tr>\n",
       "    <tr>\n",
       "      <th>33</th>\n",
       "      <td>33</td>\n",
       "      <td>92</td>\n",
       "    </tr>\n",
       "    <tr>\n",
       "      <th>35</th>\n",
       "      <td>33</td>\n",
       "      <td>81</td>\n",
       "    </tr>\n",
       "    <tr>\n",
       "      <th>37</th>\n",
       "      <td>34</td>\n",
       "      <td>73</td>\n",
       "    </tr>\n",
       "    <tr>\n",
       "      <th>39</th>\n",
       "      <td>37</td>\n",
       "      <td>75</td>\n",
       "    </tr>\n",
       "    <tr>\n",
       "      <th>41</th>\n",
       "      <td>38</td>\n",
       "      <td>92</td>\n",
       "    </tr>\n",
       "    <tr>\n",
       "      <th>45</th>\n",
       "      <td>39</td>\n",
       "      <td>65</td>\n",
       "    </tr>\n",
       "  </tbody>\n",
       "</table>\n",
       "</div>"
      ],
      "text/plain": [
       "    Annual Income (k$)  Spending Score (1-100)\n",
       "1                   15                      81\n",
       "3                   16                      77\n",
       "5                   17                      76\n",
       "7                   18                      94\n",
       "9                   19                      72\n",
       "11                  19                      99\n",
       "13                  20                      77\n",
       "15                  20                      79\n",
       "17                  21                      66\n",
       "19                  23                      98\n",
       "21                  24                      73\n",
       "23                  25                      73\n",
       "25                  28                      82\n",
       "27                  28                      61\n",
       "29                  29                      87\n",
       "31                  30                      73\n",
       "33                  33                      92\n",
       "35                  33                      81\n",
       "37                  34                      73\n",
       "39                  37                      75\n",
       "41                  38                      92\n",
       "45                  39                      65"
      ]
     },
     "execution_count": 18,
     "metadata": {},
     "output_type": "execute_result"
    }
   ],
   "source": [
    "X[y==2]# all the datapoints belonging to cluster number 0.\n",
    "\n"
   ]
  },
  {
   "cell_type": "code",
   "execution_count": 19,
   "id": "e3bcfe91",
   "metadata": {
    "execution": {
     "iopub.execute_input": "2024-02-07T12:10:30.697258Z",
     "iopub.status.busy": "2024-02-07T12:10:30.696597Z",
     "iopub.status.idle": "2024-02-07T12:10:30.703826Z",
     "shell.execute_reply": "2024-02-07T12:10:30.702890Z"
    },
    "papermill": {
     "duration": 0.025541,
     "end_time": "2024-02-07T12:10:30.707541",
     "exception": false,
     "start_time": "2024-02-07T12:10:30.682000",
     "status": "completed"
    },
    "tags": []
   },
   "outputs": [],
   "source": [
    "cluster_2=X[y==2].values\n",
    "cluster_0=X[y==0].values\n",
    "cluster_1=X[y==1].values\n",
    "cluster_3=X[y==3].values \n",
    "cluster_4=X[y==4].values \n"
   ]
  },
  {
   "cell_type": "code",
   "execution_count": 20,
   "id": "41d242f3",
   "metadata": {
    "execution": {
     "iopub.execute_input": "2024-02-07T12:10:30.737048Z",
     "iopub.status.busy": "2024-02-07T12:10:30.736322Z",
     "iopub.status.idle": "2024-02-07T12:10:30.745587Z",
     "shell.execute_reply": "2024-02-07T12:10:30.744380Z"
    },
    "papermill": {
     "duration": 0.026253,
     "end_time": "2024-02-07T12:10:30.747910",
     "exception": false,
     "start_time": "2024-02-07T12:10:30.721657",
     "status": "completed"
    },
    "tags": []
   },
   "outputs": [
    {
     "data": {
      "text/plain": [
       "array([39,  6, 40,  6,  3, 14, 15, 13, 35, 29, 35,  5, 14, 32, 31,  4,  4,\n",
       "       14, 17, 26, 35, 36, 28])"
      ]
     },
     "execution_count": 20,
     "metadata": {},
     "output_type": "execute_result"
    }
   ],
   "source": [
    "cluster_2[:,0]\n",
    "# anuual income for datapoints in the cluster 2 \n",
    "\n",
    "cluster_2[:,1]\n",
    "#spending score for datapoints in the cluster 2\n",
    "\n",
    "# annual income and spending score for cluster 0 \n",
    "cluster_0[:,0]\n",
    "cluster_0[:,1]\n",
    "\n",
    "# annual income and spending score for cluster 1\n",
    "cluster_1[:,0]\n",
    "cluster_1[:,1]\n",
    "\n",
    "# annual income and spending score for cluster 3\n",
    "cluster_3[:,0]\n",
    "cluster_3[:,1]\n",
    "\n",
    "# annual income and spending score for cluster 4\n",
    "cluster_4[:,0]\n",
    "cluster_4[:,1]\n"
   ]
  },
  {
   "cell_type": "markdown",
   "id": "ee292bd2",
   "metadata": {
    "papermill": {
     "duration": 0.013183,
     "end_time": "2024-02-07T12:10:30.774769",
     "exception": false,
     "start_time": "2024-02-07T12:10:30.761586",
     "status": "completed"
    },
    "tags": []
   },
   "source": [
    "- Now we will plot the annual income vs spending score for the cluster 2."
   ]
  },
  {
   "cell_type": "code",
   "execution_count": 21,
   "id": "5af6acdb",
   "metadata": {
    "execution": {
     "iopub.execute_input": "2024-02-07T12:10:30.812453Z",
     "iopub.status.busy": "2024-02-07T12:10:30.811422Z",
     "iopub.status.idle": "2024-02-07T12:10:31.290075Z",
     "shell.execute_reply": "2024-02-07T12:10:31.288884Z"
    },
    "papermill": {
     "duration": 0.502288,
     "end_time": "2024-02-07T12:10:31.292933",
     "exception": false,
     "start_time": "2024-02-07T12:10:30.790645",
     "status": "completed"
    },
    "tags": []
   },
   "outputs": [
    {
     "data": {
      "image/png": "[encoded data removed]",
      "text/plain": [
       "<Figure size 640x480 with 1 Axes>"
      ]
     },
     "metadata": {},
     "output_type": "display_data"
    }
   ],
   "source": [
    "plt.scatter(model.cluster_centers_[:,0], model.cluster_centers_[:,1],color='magenta',marker='*',s=150,label='Centroid')\n",
    "plt.scatter(cluster_0[:,0],cluster_0[:,1],color='orange',label='Cluster0')\n",
    "plt.scatter(cluster_1[:,0],cluster_1[:,1],color='red',label='Cluster1')\n",
    "plt.scatter(cluster_2[:,0],cluster_2[:,1],color='green',label='Clsuter2')\n",
    "plt.scatter(cluster_3[:,0],cluster_3[:,1],color='brown',label='Cluster3')\n",
    "plt.scatter(cluster_4[:,0],cluster_4[:,1],color='purple',label='Cluster4')\n",
    "plt.legend()\n",
    "plt.xlabel(\"Annual Income\")\n",
    "plt.ylabel('Spending Score')\n",
    "plt.show()"
   ]
  },
  {
   "cell_type": "code",
   "execution_count": null,
   "id": "8b2cc9ba",
   "metadata": {
    "papermill": {
     "duration": 0.012931,
     "end_time": "2024-02-07T12:10:31.321942",
     "exception": false,
     "start_time": "2024-02-07T12:10:31.309011",
     "status": "completed"
    },
    "tags": []
   },
   "outputs": [],
   "source": []
  },
  {
   "cell_type": "markdown",
   "id": "a7cd05dc",
   "metadata": {
    "papermill": {
     "duration": 0.013641,
     "end_time": "2024-02-07T12:10:31.350155",
     "exception": false,
     "start_time": "2024-02-07T12:10:31.336514",
     "status": "completed"
    },
    "tags": []
   },
   "source": [
    "We get the very important approach by clustering analysis:\n",
    "- Cluster_0 constitutes the majority of people. Regular chunk of people who are spending average and having the annual income average also.\n",
    "\n",
    "- Cluster_1 people have the very high annual income and they are also spending lot. These are like gold standard cuctomers. We need to give them special access.\n",
    "\n",
    "- Clsuter_2 people having the low annual icome but the very high spending score hence these customers are bonus customers. \n",
    "\n",
    "- Cluster_3 are customers having the annual income very high but they didn't spend to much. \n",
    "\n",
    "- Cluster_4 customers having the very less annual income as well as they spend very less on the sales."
   ]
  },
  {
   "cell_type": "code",
   "execution_count": null,
   "id": "5df39e3f",
   "metadata": {
    "papermill": {
     "duration": 0.013759,
     "end_time": "2024-02-07T12:10:31.379321",
     "exception": false,
     "start_time": "2024-02-07T12:10:31.365562",
     "status": "completed"
    },
    "tags": []
   },
   "outputs": [],
   "source": []
  }
 ],
 "metadata": {
  "kaggle": {
   "accelerator": "none",
   "dataSources": [
    {
     "datasetId": 42674,
     "sourceId": 74935,
     "sourceType": "datasetVersion"
    }
   ],
   "dockerImageVersionId": 30646,
   "isGpuEnabled": false,
   "isInternetEnabled": false,
   "language": "python",
   "sourceType": "notebook"
  },
  "kernelspec": {
   "display_name": "Python 3",
   "language": "python",
   "name": "python3"
  },
  "language_info": {
   "codemirror_mode": {
    "name": "ipython",
    "version": 3
   },
   "file_extension": ".py",
   "mimetype": "text/x-python",
   "name": "python",
   "nbconvert_exporter": "python",
   "pygments_lexer": "ipython3",
   "version": "3.10.13"
  },
  "papermill": {
   "default_parameters": {},
   "duration": 9.914717,
   "end_time": "2024-02-07T12:10:32.117628",
   "environment_variables": {},
   "exception": null,
   "input_path": "__notebook__.ipynb",
   "output_path": "__notebook__.ipynb",
   "parameters": {},
   "start_time": "2024-02-07T12:10:22.202911",
   "version": "2.5.0"
  }
 },
 "nbformat": 4,
 "nbformat_minor": 5
}
